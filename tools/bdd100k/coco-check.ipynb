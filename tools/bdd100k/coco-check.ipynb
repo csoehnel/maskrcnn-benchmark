{
 "cells": [
  {
   "cell_type": "code",
   "execution_count": 1,
   "metadata": {},
   "outputs": [],
   "source": [
    "import os\n",
    "import shutil\n",
    "from maskrcnn_benchmark.data.datasets import coco\n",
    "from PIL import Image, ImageDraw\n",
    "from matplotlib.pyplot import imshow\n",
    "%matplotlib inline"
   ]
  },
  {
   "cell_type": "code",
   "execution_count": 2,
   "metadata": {},
   "outputs": [],
   "source": [
    "path_to_json = \"/home/SharedFolder/CurrentDatasets/bdd100k_sorted_augmented_v032_e14/annotations/bdd100k_sorted_train_A_ganaug_050_over_coco.json\"\n",
    "path_to_images = \"/home/SharedFolder/CurrentDatasets/bdd100k_sorted_augmented_v032_e14/train_A_ganaug_050\"\n",
    "out_folder = \"/home/SharedFolder/CurrentDatasets/bdd100k_sorted_augmented_v032_e14/train_A_ganaug_050_bboxes\"\n",
    "process_only_suffix = \"_transfer_AtoB\"\n",
    "\n",
    "#path_to_json = \"/home/SharedFolder/CurrentDatasets/bdd100k_sorted_coco/annotations/bdd100k_sorted_valid_coco.json\"\n",
    "#path_to_images = \"/home/SharedFolder/CurrentDatasets/bdd100k_sorted_coco/valid\"\n",
    "#out_folder = \"/home/SharedFolder/CurrentDatasets/bdd100k_sorted_coco/valid_bboxes\"\n",
    "#process_only_suffix = None"
   ]
  },
  {
   "cell_type": "code",
   "execution_count": 3,
   "metadata": {},
   "outputs": [],
   "source": [
    "# mapping from coco class numbers to bdd label names\n",
    "dict_bdd_coco_classes = {\n",
    "    1:\"person\",\n",
    "    2:\"bicycle\",\n",
    "    3:\"car\",\n",
    "    4:\"motorcycle\",\n",
    "    6:\"bus\",\n",
    "    7:\"train\",\n",
    "    8:\"truck\",\n",
    "    10:\"traffic light\",\n",
    "    13:\"sign\"\n",
    "}\n",
    "\n",
    "# just for drawing\n",
    "dict_bdd_coco_colors = {\n",
    "    1: (  0,   0, 255),\n",
    "    2: (  0,   0, 139),\n",
    "    3: (  0, 255,   0),\n",
    "    4: (  0, 255, 255),\n",
    "    6: (  0, 139,   0),\n",
    "    7: (255, 255, 255),\n",
    "    8: (105, 139,  34),\n",
    "    10:(255,   0,   0),\n",
    "    13:(255, 255,   0)\n",
    "}"
   ]
  },
  {
   "cell_type": "code",
   "execution_count": 4,
   "metadata": {},
   "outputs": [
    {
     "name": "stdout",
     "output_type": "stream",
     "text": [
      "loading annotations into memory...\n",
      "Done (t=7.71s)\n",
      "creating index...\n",
      "index created!\n"
     ]
    }
   ],
   "source": [
    "# create data set\n",
    "coco_dataset = coco.COCODataset(path_to_json, path_to_images, True, None)"
   ]
  },
  {
   "cell_type": "code",
   "execution_count": null,
   "metadata": {},
   "outputs": [
    {
     "name": "stdout",
     "output_type": "stream",
     "text": [
      "Processed image 15400 of 51034.\n",
      "Processed image 15500 of 51034.\n",
      "Processed image 15600 of 51034.\n",
      "Processed image 15700 of 51034.\n",
      "Processed image 15800 of 51034.\n",
      "Processed image 15900 of 51034.\n",
      "Processed image 16000 of 51034.\n",
      "Processed image 16100 of 51034.\n",
      "Processed image 16200 of 51034.\n",
      "Processed image 16300 of 51034.\n",
      "Processed image 16400 of 51034.\n"
     ]
    }
   ],
   "source": [
    "if os.path.isdir(out_folder):\n",
    "    shutil.rmtree(out_folder)\n",
    "os.makedirs(out_folder, exist_ok = True)\n",
    "    \n",
    "for i in range(len(coco_dataset)):\n",
    "    if process_only_suffix is not None and process_only_suffix not in coco_dataset.get_img_info(i)[\"file_name\"]:\n",
    "        continue\n",
    "    img, target, _ = coco_dataset[i]\n",
    "    draw_on_img = ImageDraw.Draw(img)\n",
    "    for b in range(len(target)):\n",
    "        bbox = target.bbox[b].numpy()\n",
    "        json_cat_id = coco_dataset.contiguous_category_id_to_json_id[target.extra_fields[\"labels\"][b].item()]\n",
    "        if json_cat_id in dict_bdd_coco_colors:\n",
    "            color = dict_bdd_coco_colors[json_cat_id]\n",
    "        else:\n",
    "            color = (127, 127, 127)\n",
    "        if json_cat_id in dict_bdd_coco_classes:\n",
    "            label = str(dict_bdd_coco_classes[json_cat_id])\n",
    "        else:\n",
    "            label = str(json_cat_id)\n",
    "        draw_on_img.rectangle(bbox, outline = color)\n",
    "        draw_on_img.text(bbox[0:2], label, fill = color)\n",
    "    del draw_on_img\n",
    "    img.save(os.path.join(out_folder, coco_dataset.get_img_info(i)[\"file_name\"]), 'JPEG', quality = 95)\n",
    "    if i % 100 == 0:\n",
    "        print(f\"Processed image {i} of {len(coco_dataset)}.\")"
   ]
  },
  {
   "cell_type": "code",
   "execution_count": null,
   "metadata": {},
   "outputs": [],
   "source": []
  }
 ],
 "metadata": {
  "kernelspec": {
   "display_name": "Python 3",
   "language": "python",
   "name": "python3"
  },
  "language_info": {
   "codemirror_mode": {
    "name": "ipython",
    "version": 3
   },
   "file_extension": ".py",
   "mimetype": "text/x-python",
   "name": "python",
   "nbconvert_exporter": "python",
   "pygments_lexer": "ipython3",
   "version": "3.6.7"
  }
 },
 "nbformat": 4,
 "nbformat_minor": 2
}
