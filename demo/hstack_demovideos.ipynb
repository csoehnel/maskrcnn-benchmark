{
 "cells": [
  {
   "cell_type": "code",
   "execution_count": null,
   "metadata": {},
   "outputs": [],
   "source": [
    "import os\n",
    "import time\n",
    "import glob\n",
    "import subprocess"
   ]
  },
  {
   "cell_type": "code",
   "execution_count": null,
   "metadata": {},
   "outputs": [],
   "source": [
    "path_to_videos = \"/home/SharedFolder/CurrentDatasets/bdd100k_video_samples\"\n",
    "suffix_video_left = \"_train_A_ganaug_050_over_augonlyasbase\"\n",
    "suffix_video_right = \"_train_A_ganaug_050_over\"\n",
    "suffix_video_combined = suffix_video_left + suffix_video_right"
   ]
  },
  {
   "cell_type": "code",
   "execution_count": null,
   "metadata": {},
   "outputs": [],
   "source": [
    "left_videos = glob.glob(path_to_videos + \"/*\" + suffix_video_left + \".mp4\")\n",
    "right_videos = glob.glob(path_to_videos + \"/*\" + suffix_video_right + \".mp4\")\n",
    "left_videos_no_suffix = [video.split(suffix_video_left)[0] for video in left_videos]\n",
    "right_videos_no_suffix = [video.split(suffix_video_right)[0] for video in right_videos]\n",
    "relevant_videos_no_suffix = sorted(list(set(left_videos_no_suffix) & set(right_videos_no_suffix)))\n",
    "print(f\"Found {len(relevant_videos_no_suffix)} videos for stacking.\")"
   ]
  },
  {
   "cell_type": "code",
   "execution_count": null,
   "metadata": {},
   "outputs": [],
   "source": [
    "def process_video(relevant_video_no_suffix, suffix_video_left, suffix_video_right, suffix_video_combined):\n",
    "    left_video = relevant_video_no_suffix + suffix_video_left + \".mp4\"\n",
    "    right_video = relevant_video_no_suffix + suffix_video_right + \".mp4\"\n",
    "    path_name = os.path.dirname(left_video)\n",
    "    target_path = os.path.join(path_name, \"combined\")\n",
    "    combined_video = os.path.join(target_path, relevant_video_no_suffix.split(os.sep)[-1] + suffix_video_combined + \".mp4\")\n",
    "    if not os.path.isdir(target_path):\n",
    "        os.makedirs(target_path, exist_ok = True)\n",
    "    elif os.path.exists(combined_video):\n",
    "        # do nothing if file already processed\n",
    "        return -1\n",
    "    # combine videos\n",
    "    bash_cmd = [\"ffmpeg\", \"-i\", left_video, \"-i\", right_video, \"-filter_complex\", \"hstack=inputs=2\", \"-c:v\", \"libx264\", \"-crf\", \"18\", combined_video]\n",
    "    subprocess.call(bash_cmd)\n",
    "    return 0"
   ]
  },
  {
   "cell_type": "code",
   "execution_count": null,
   "metadata": {},
   "outputs": [],
   "source": [
    "for i in range(len(relevant_videos_no_suffix)):\n",
    "    print(f\"Processing video {i + 1} of {len(relevant_videos_no_suffix)}\", end = \"\")\n",
    "    tic = time.time()\n",
    "    result = process_video(relevant_videos_no_suffix[i], suffix_video_left, suffix_video_right, suffix_video_combined)\n",
    "    toc = time.time()\n",
    "    if result == 0:\n",
    "        print(f\"... done in {toc - tic:.2f}s\")\n",
    "    else:\n",
    "        print(f\"... skipped. File exists.\")"
   ]
  }
 ],
 "metadata": {
  "kernelspec": {
   "display_name": "Python 3",
   "language": "python",
   "name": "python3"
  },
  "language_info": {
   "codemirror_mode": {
    "name": "ipython",
    "version": 3
   },
   "file_extension": ".py",
   "mimetype": "text/x-python",
   "name": "python",
   "nbconvert_exporter": "python",
   "pygments_lexer": "ipython3",
   "version": "3.6.7"
  }
 },
 "nbformat": 4,
 "nbformat_minor": 2
}
