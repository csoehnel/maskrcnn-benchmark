{
 "cells": [
  {
   "cell_type": "code",
   "execution_count": 1,
   "metadata": {},
   "outputs": [],
   "source": [
    "import os\n",
    "import time\n",
    "import glob\n",
    "import shutil\n",
    "import subprocess\n",
    "import numpy as np\n",
    "from PIL import Image\n",
    "from predictor import COCODemo\n",
    "from random import shuffle\n",
    "from maskrcnn_benchmark.config import cfg\n",
    "import matplotlib.pyplot as plt\n",
    "import matplotlib.pylab as pylab"
   ]
  },
  {
   "cell_type": "code",
   "execution_count": 2,
   "metadata": {},
   "outputs": [],
   "source": [
    "# this makes our figures bigger\n",
    "pylab.rcParams['figure.figsize'] = 20, 12"
   ]
  },
  {
   "cell_type": "code",
   "execution_count": 3,
   "metadata": {},
   "outputs": [],
   "source": [
    "# specify paths\n",
    "path_to_videos = \"/home/SharedFolder/CurrentDatasets/bdd100k_video_samples\""
   ]
  },
  {
   "cell_type": "code",
   "execution_count": 4,
   "metadata": {},
   "outputs": [],
   "source": [
    "# confidence threshold\n",
    "conf_thresh = 0.7"
   ]
  },
  {
   "cell_type": "code",
   "execution_count": null,
   "metadata": {},
   "outputs": [],
   "source": [
    "# suffix for output file name\n",
    "outfile_suffix = \"_train_A_over_iter_final_ct\" + str(conf_thresh)"
   ]
  },
  {
   "cell_type": "code",
   "execution_count": null,
   "metadata": {},
   "outputs": [],
   "source": [
    "# specify config file\n",
    "config_file = \"/home/SharedFolder/git/csoehnel/maskrcnn-benchmark/configs/retinanet/retinanet_R-50-FPN_1x_finetune_nightdrive.yaml\"\n",
    "cfg.merge_from_file(config_file)"
   ]
  },
  {
   "cell_type": "code",
   "execution_count": null,
   "metadata": {},
   "outputs": [],
   "source": [
    "# specify model-weight file\n",
    "model_weight = \"/home/SharedFolder/trained_models/night-drive/detector/20190309_RetinaNet_train_A_over_final_epoch/model_final.pth\"\n",
    "cfg.merge_from_list([\"MODEL.WEIGHT\", model_weight])"
   ]
  },
  {
   "cell_type": "code",
   "execution_count": null,
   "metadata": {},
   "outputs": [],
   "source": [
    "cfg.merge_from_list([\"MODEL.DEVICE\", \"cuda\"])\n",
    "coco_demo = COCODemo(\n",
    "    cfg,\n",
    "    min_image_size = 800,\n",
    "    confidence_threshold = conf_thresh,\n",
    ")"
   ]
  },
  {
   "cell_type": "code",
   "execution_count": null,
   "metadata": {},
   "outputs": [],
   "source": [
    "videos = glob.glob(path_to_videos + \"/*.mov\")\n",
    "shuffle(videos)"
   ]
  },
  {
   "cell_type": "code",
   "execution_count": null,
   "metadata": {},
   "outputs": [],
   "source": [
    "def process_video(video):\n",
    "    # (re-) create directories for extracted frames and target video\n",
    "    file_name = os.path.basename(video)\n",
    "    path_name = os.path.dirname(video)\n",
    "    temp_path = os.path.join(path_name, file_name.split(\".\")[0])\n",
    "    temp_pred_path = os.path.join(temp_path, \"prediction\")\n",
    "    target_path = os.path.join(path_name, \"demovideos\")\n",
    "    target_file = os.path.join(target_path,file_name.split(\".mov\")[0] + outfile_suffix + \".mp4\")\n",
    "    if os.path.isdir(temp_path):\n",
    "        shutil.rmtree(temp_path)\n",
    "    os.makedirs(temp_path)\n",
    "    os.makedirs(temp_pred_path)\n",
    "    if not os.path.isdir(target_path):\n",
    "        os.makedirs(target_path)\n",
    "    elif os.path.exists(target_file):\n",
    "        # do nothing if file already processed\n",
    "        return 0\n",
    "    # extract frames from video\n",
    "    bash_cmd = [\"ffmpeg\", \"-i\", video, \"-start_number\", \"0\", \"-qscale:v\", \"2\", temp_path + \"/frame-%d.jpg\"]\n",
    "    subprocess.call(bash_cmd)\n",
    "    # process frames\n",
    "    frames = glob.glob(temp_path + \"/*.jpg\")\n",
    "    for frame in frames:    \n",
    "        pil_image = Image.open(frame).convert(\"RGB\")\n",
    "        # convert to BGR format\n",
    "        image = np.array(pil_image)[:, :, [2, 1, 0]]\n",
    "        # predict\n",
    "        prediction = coco_demo.run_on_opencv_image(image, line_width = 3)\n",
    "        # convert to RGB format\n",
    "        pil_prediction = Image.fromarray(prediction[:, :, [2, 1, 0]])\n",
    "        pil_prediction.save(os.path.join(temp_pred_path, os.path.basename(frame)), quality = 95)\n",
    "    # construct video\n",
    "    bash_cmd = [\"ffmpeg\", \"-r\", \"30\", \"-f\", \"image2\", \"-i\", temp_pred_path + \"/frame-%d.jpg\", \"-vcodec\", \"libx264\", \"-crf\", \"18\", target_file]\n",
    "    subprocess.call(bash_cmd)\n",
    "    # clean-up\n",
    "    shutil.rmtree(temp_path)\n",
    "    return len(frames)"
   ]
  },
  {
   "cell_type": "code",
   "execution_count": null,
   "metadata": {},
   "outputs": [
    {
     "name": "stdout",
     "output_type": "stream",
     "text": [
      "Processing video 1 of 1000... done in 156.65s (0.26s / frame)\n",
      "Processing video 2 of 1000... done in 316.55s (0.26s / frame)\n",
      "Processing video 3 of 1000... done in 325.05s (0.27s / frame)\n",
      "Processing video 4 of 1000... done in 307.94s (0.26s / frame)\n",
      "Processing video 5 of 1000... done in 319.04s (0.26s / frame)\n",
      "Processing video 6 of 1000... done in 329.09s (0.27s / frame)\n",
      "Processing video 7 of 1000... done in 340.26s (0.28s / frame)\n",
      "Processing video 8 of 1000... done in 661.44s (0.28s / frame)\n",
      "Processing video 9 of 1000... done in 315.04s (0.26s / frame)\n",
      "Processing video 10 of 1000... done in 323.79s (0.27s / frame)\n",
      "Processing video 11 of 1000... done in 318.98s (0.27s / frame)\n",
      "Processing video 12 of 1000... done in 316.14s (0.26s / frame)\n",
      "Processing video 13 of 1000"
     ]
    }
   ],
   "source": [
    "for i in range(len(videos)):\n",
    "    print(f\"Processing video {i + 1} of {len(videos)}\", end = \"\")\n",
    "    tic = time.time()\n",
    "    n_frames = process_video(videos[i])\n",
    "    toc = time.time()\n",
    "    if n_frames > 0:\n",
    "        print(f\"... done in {toc - tic:.2f}s ({((toc - tic) / n_frames):.2f}s / frame)\")\n",
    "    else:\n",
    "        print(f\"... skipped. File exists.\")"
   ]
  },
  {
   "cell_type": "code",
   "execution_count": null,
   "metadata": {},
   "outputs": [],
   "source": []
  }
 ],
 "metadata": {
  "kernelspec": {
   "display_name": "Python 3",
   "language": "python",
   "name": "python3"
  },
  "language_info": {
   "codemirror_mode": {
    "name": "ipython",
    "version": 3
   },
   "file_extension": ".py",
   "mimetype": "text/x-python",
   "name": "python",
   "nbconvert_exporter": "python",
   "pygments_lexer": "ipython3",
   "version": "3.6.7"
  }
 },
 "nbformat": 4,
 "nbformat_minor": 2
}
